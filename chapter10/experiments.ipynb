{
 "cells": [
  {
   "cell_type": "code",
   "execution_count": 1,
   "metadata": {
    "pycharm": {
     "name": "#%%\n"
    }
   },
   "outputs": [],
   "source": [
    "import numpy as np \n",
    "import pandas as pd\n",
    "import os"
   ]
  },
  {
   "cell_type": "code",
   "execution_count": 2,
   "metadata": {
    "pycharm": {
     "name": "#%%\n"
    }
   },
   "outputs": [],
   "source": [
    "import mlflow\n",
    "\n",
    "HOST = \"http://mlflow:5500\"\n",
    "EXPERIMENT_NAME = \"FlightsDelay-mluser\"\n",
    "\n",
    "os.environ['MLFLOW_S3_ENDPOINT_URL']='http://minio-ml-workshop:9000'\n",
    "os.environ['AWS_ACCESS_KEY_ID']='minio'\n",
    "os.environ['AWS_REGION']='us-east-1'\n",
    "os.environ['AWS_BUCKET_NAME']='mlflow'\n",
    "\n",
    "# Connect to local MLflow tracking server\n",
    "mlflow.set_tracking_uri(HOST)\n",
    "\n",
    "# Set the experiment name...\n",
    "mlflow.set_experiment(EXPERIMENT_NAME)\n",
    "\n",
    "mlflow.sklearn.autolog(log_input_examples=True)\n"
   ]
  },
  {
   "cell_type": "code",
   "execution_count": 3,
   "metadata": {
    "pycharm": {
     "name": "#%%\n"
    }
   },
   "outputs": [],
   "source": [
    "import pyarrow.parquet as pq\n",
    "import s3fs\n",
    "\n",
    "fs = s3fs.S3FileSystem(anon=True, \n",
    "                       key='minio', \n",
    "                       secret='minio123',\n",
    "                       client_kwargs=dict(endpoint_url=\"http://minio-ml-workshop:9000\"))\n",
    "fs.ls(\"flights-data/flights-clean\")\n",
    "# \n",
    "df = pq.ParquetDataset('s3://flights-data/flights-clean', filesystem = fs).read_pandas().to_pandas()"
   ]
  },
  {
   "cell_type": "code",
   "execution_count": 4,
   "metadata": {
    "pycharm": {
     "name": "#%%\n"
    }
   },
   "outputs": [
    {
     "data": {
      "text/plain": [
       "cancellation_reason    5245484\n",
       "late_aircraft_delay    4329554\n",
       "weather_delay          4329554\n",
       "airline_delay          4329554\n",
       "security_delay         4329554\n",
       "air_system_delay       4329554\n",
       "air_time                101784\n",
       "arrival_delay           101784\n",
       "elapsed_time            101784\n",
       "wheels_on                89942\n",
       "arrival_time             89942\n",
       "taxi_in                  89942\n",
       "wheels_off               86612\n",
       "taxi_out                 86612\n",
       "departure_time           83814\n",
       "departure_delay          83814\n",
       "tail_number              14367\n",
       "DEST_LATITUDE             4610\n",
       "DEST_LONGITUDE            4610\n",
       "ORIG_LATITUDE             4605\n",
       "ORIG_LONGITUDE            4605\n",
       "scheduled_time               6\n",
       "DEST_CITY                    0\n",
       "DEST_AIRPORT                 0\n",
       "ORIG_STATE                   0\n",
       "ORIG_CITY                    0\n",
       "ORIG_AIRPORT                 0\n",
       "AL_AIRLINE                   0\n",
       "DEST_STATE                   0\n",
       "month                        0\n",
       "cancelled                    0\n",
       "diverted                     0\n",
       "day                          0\n",
       "scheduled_arrival            0\n",
       "distance                     0\n",
       "scheduled_departure          0\n",
       "destination_airport          0\n",
       "origin_airport               0\n",
       "flight_number                0\n",
       "airline                      0\n",
       "day_of_week                  0\n",
       "DELAYED                      0\n",
       "dtype: int64"
      ]
     },
     "execution_count": 4,
     "metadata": {},
     "output_type": "execute_result"
    }
   ],
   "source": [
    "df.isnull().sum().sort_values(ascending = False)"
   ]
  },
  {
   "cell_type": "code",
   "execution_count": 5,
   "metadata": {
    "pycharm": {
     "name": "#%%\n"
    }
   },
   "outputs": [],
   "source": [
    "#drop the columns for which the dataset has missing data for a large number of rows\n",
    "df = df.drop([\"cancellation_reason\",\"late_aircraft_delay\",\"weather_delay\",\n",
    "              \"airline_delay\", \"security_delay\", \"air_system_delay\"], axis=1)\n",
    "\n",
    "# tail number doesnot seems to effect the predictions\n",
    "df = df.drop([\"tail_number\"], axis=1)\n",
    "\n"
   ]
  },
  {
   "cell_type": "code",
   "execution_count": 6,
   "metadata": {
    "pycharm": {
     "name": "#%%\n"
    }
   },
   "outputs": [],
   "source": [
    "#drop columns that will not be available for predicting future flights\n",
    "df = df.dropna(subset=[\"scheduled_time\", \"departure_delay\", \n",
    "                       \"departure_time\", \"taxi_out\",\"wheels_off\", \"taxi_in\", \"arrival_time\",\n",
    "                       \"wheels_on\", \"elapsed_time\", \"arrival_delay\",\"air_time\", \n",
    "                       \"DEST_LONGITUDE\", \"DEST_LATITUDE\", \"ORIG_LONGITUDE\", \"ORIG_LATITUDE\"])"
   ]
  },
  {
   "cell_type": "code",
   "execution_count": 7,
   "metadata": {
    "pycharm": {
     "name": "#%%\n"
    }
   },
   "outputs": [],
   "source": [
    "df = df.drop([\"departure_time\",\"arrival_time\",\"wheels_on\", \n",
    "              \"wheels_off\", \"departure_delay\", \"arrival_delay\", \"diverted\", \n",
    "              \"cancelled\", \"taxi_in\", \"taxi_out\"], axis=1)\n"
   ]
  },
  {
   "cell_type": "code",
   "execution_count": 8,
   "metadata": {
    "pycharm": {
     "name": "#%%\n"
    }
   },
   "outputs": [],
   "source": [
    "df[\"scheduled_departure_hour\"] = df.scheduled_departure.str[:2].astype(int)\n",
    "df[\"scheduled_departure_minute\"] = df.scheduled_departure.str[2:].astype(int)\n",
    "\n",
    "\n",
    "df[\"scheduled_arrival_hour\"] = df.scheduled_arrival.str[:2].astype(int)\n",
    "df[\"scheduled_arrival_minute\"] = df.scheduled_arrival.str[2:].astype(int)\n",
    "\n"
   ]
  },
  {
   "cell_type": "code",
   "execution_count": 9,
   "metadata": {
    "pycharm": {
     "name": "#%%\n"
    }
   },
   "outputs": [],
   "source": [
    "#drop the columns for which we have splitted the time into hours and minutes\n",
    "df = df.drop([\"scheduled_arrival\",  \"scheduled_departure\"], axis=1)\n",
    "\n",
    "#drop the columns which are repsented in other column too. \n",
    "#For example origin_airport col has a key for the airport and the ORIG_AIRPORT column is a descriptive name\n",
    "df = df.drop([ \"AL_AIRLINE\", \"ORIG_AIRPORT\", \"DEST_AIRPORT\"], axis=1)"
   ]
  },
  {
   "cell_type": "code",
   "execution_count": 10,
   "metadata": {
    "pycharm": {
     "name": "#%%\n"
    }
   },
   "outputs": [
    {
     "data": {
      "text/html": [
       "<div>\n",
       "<style scoped>\n",
       "    .dataframe tbody tr th:only-of-type {\n",
       "        vertical-align: middle;\n",
       "    }\n",
       "\n",
       "    .dataframe tbody tr th {\n",
       "        vertical-align: top;\n",
       "    }\n",
       "\n",
       "    .dataframe thead th {\n",
       "        text-align: right;\n",
       "    }\n",
       "</style>\n",
       "<table border=\"1\" class=\"dataframe\">\n",
       "  <thead>\n",
       "    <tr style=\"text-align: right;\">\n",
       "      <th></th>\n",
       "      <th>month</th>\n",
       "      <th>day</th>\n",
       "      <th>day_of_week</th>\n",
       "      <th>airline</th>\n",
       "      <th>flight_number</th>\n",
       "      <th>origin_airport</th>\n",
       "      <th>destination_airport</th>\n",
       "      <th>scheduled_time</th>\n",
       "      <th>elapsed_time</th>\n",
       "      <th>air_time</th>\n",
       "      <th>distance</th>\n",
       "      <th>ORIG_CITY</th>\n",
       "      <th>ORIG_STATE</th>\n",
       "      <th>ORIG_LATITUDE</th>\n",
       "      <th>ORIG_LONGITUDE</th>\n",
       "      <th>DEST_CITY</th>\n",
       "      <th>DEST_STATE</th>\n",
       "      <th>DEST_LATITUDE</th>\n",
       "      <th>DEST_LONGITUDE</th>\n",
       "      <th>DELAYED</th>\n",
       "      <th>scheduled_departure_hour</th>\n",
       "      <th>scheduled_departure_minute</th>\n",
       "      <th>scheduled_arrival_hour</th>\n",
       "      <th>scheduled_arrival_minute</th>\n",
       "    </tr>\n",
       "  </thead>\n",
       "  <tbody>\n",
       "    <tr>\n",
       "      <th>0</th>\n",
       "      <td>11</td>\n",
       "      <td>30</td>\n",
       "      <td>1</td>\n",
       "      <td>WN</td>\n",
       "      <td>552</td>\n",
       "      <td>LGA</td>\n",
       "      <td>DAL</td>\n",
       "      <td>250.0</td>\n",
       "      <td>244.0</td>\n",
       "      <td>221.0</td>\n",
       "      <td>1381</td>\n",
       "      <td>New York</td>\n",
       "      <td>NY</td>\n",
       "      <td>40.77724</td>\n",
       "      <td>-73.87261</td>\n",
       "      <td>Dallas</td>\n",
       "      <td>TX</td>\n",
       "      <td>32.84711</td>\n",
       "      <td>-96.85177</td>\n",
       "      <td>0</td>\n",
       "      <td>6</td>\n",
       "      <td>15</td>\n",
       "      <td>9</td>\n",
       "      <td>25</td>\n",
       "    </tr>\n",
       "    <tr>\n",
       "      <th>1</th>\n",
       "      <td>11</td>\n",
       "      <td>30</td>\n",
       "      <td>1</td>\n",
       "      <td>WN</td>\n",
       "      <td>271</td>\n",
       "      <td>MCI</td>\n",
       "      <td>ATL</td>\n",
       "      <td>125.0</td>\n",
       "      <td>125.0</td>\n",
       "      <td>88.0</td>\n",
       "      <td>692</td>\n",
       "      <td>Kansas City</td>\n",
       "      <td>MO</td>\n",
       "      <td>39.29761</td>\n",
       "      <td>-94.71391</td>\n",
       "      <td>Atlanta</td>\n",
       "      <td>GA</td>\n",
       "      <td>33.64044</td>\n",
       "      <td>-84.42694</td>\n",
       "      <td>0</td>\n",
       "      <td>6</td>\n",
       "      <td>15</td>\n",
       "      <td>9</td>\n",
       "      <td>20</td>\n",
       "    </tr>\n",
       "    <tr>\n",
       "      <th>2</th>\n",
       "      <td>11</td>\n",
       "      <td>30</td>\n",
       "      <td>1</td>\n",
       "      <td>WN</td>\n",
       "      <td>673</td>\n",
       "      <td>MCO</td>\n",
       "      <td>BNA</td>\n",
       "      <td>120.0</td>\n",
       "      <td>112.0</td>\n",
       "      <td>93.0</td>\n",
       "      <td>616</td>\n",
       "      <td>Orlando</td>\n",
       "      <td>FL</td>\n",
       "      <td>28.42889</td>\n",
       "      <td>-81.31603</td>\n",
       "      <td>Nashville</td>\n",
       "      <td>TN</td>\n",
       "      <td>36.12448</td>\n",
       "      <td>-86.67818</td>\n",
       "      <td>0</td>\n",
       "      <td>6</td>\n",
       "      <td>15</td>\n",
       "      <td>7</td>\n",
       "      <td>15</td>\n",
       "    </tr>\n",
       "    <tr>\n",
       "      <th>3</th>\n",
       "      <td>11</td>\n",
       "      <td>30</td>\n",
       "      <td>1</td>\n",
       "      <td>WN</td>\n",
       "      <td>2720</td>\n",
       "      <td>OAK</td>\n",
       "      <td>SAN</td>\n",
       "      <td>90.0</td>\n",
       "      <td>85.0</td>\n",
       "      <td>67.0</td>\n",
       "      <td>446</td>\n",
       "      <td>Oakland</td>\n",
       "      <td>CA</td>\n",
       "      <td>37.72129</td>\n",
       "      <td>-122.22072</td>\n",
       "      <td>San Diego</td>\n",
       "      <td>CA</td>\n",
       "      <td>32.73356</td>\n",
       "      <td>-117.18966</td>\n",
       "      <td>0</td>\n",
       "      <td>6</td>\n",
       "      <td>15</td>\n",
       "      <td>7</td>\n",
       "      <td>45</td>\n",
       "    </tr>\n",
       "    <tr>\n",
       "      <th>4</th>\n",
       "      <td>11</td>\n",
       "      <td>30</td>\n",
       "      <td>1</td>\n",
       "      <td>WN</td>\n",
       "      <td>805</td>\n",
       "      <td>OKC</td>\n",
       "      <td>DEN</td>\n",
       "      <td>105.0</td>\n",
       "      <td>95.0</td>\n",
       "      <td>73.0</td>\n",
       "      <td>495</td>\n",
       "      <td>Oklahoma City</td>\n",
       "      <td>OK</td>\n",
       "      <td>35.39309</td>\n",
       "      <td>-97.60073</td>\n",
       "      <td>Denver</td>\n",
       "      <td>CO</td>\n",
       "      <td>39.85841</td>\n",
       "      <td>-104.66700</td>\n",
       "      <td>0</td>\n",
       "      <td>6</td>\n",
       "      <td>15</td>\n",
       "      <td>7</td>\n",
       "      <td>0</td>\n",
       "    </tr>\n",
       "  </tbody>\n",
       "</table>\n",
       "</div>"
      ],
      "text/plain": [
       "   month  day  day_of_week airline  flight_number origin_airport  \\\n",
       "0     11   30            1      WN            552            LGA   \n",
       "1     11   30            1      WN            271            MCI   \n",
       "2     11   30            1      WN            673            MCO   \n",
       "3     11   30            1      WN           2720            OAK   \n",
       "4     11   30            1      WN            805            OKC   \n",
       "\n",
       "  destination_airport  scheduled_time  elapsed_time  air_time  distance  \\\n",
       "0                 DAL           250.0         244.0     221.0      1381   \n",
       "1                 ATL           125.0         125.0      88.0       692   \n",
       "2                 BNA           120.0         112.0      93.0       616   \n",
       "3                 SAN            90.0          85.0      67.0       446   \n",
       "4                 DEN           105.0          95.0      73.0       495   \n",
       "\n",
       "       ORIG_CITY ORIG_STATE  ORIG_LATITUDE  ORIG_LONGITUDE  DEST_CITY  \\\n",
       "0       New York         NY       40.77724       -73.87261     Dallas   \n",
       "1    Kansas City         MO       39.29761       -94.71391    Atlanta   \n",
       "2        Orlando         FL       28.42889       -81.31603  Nashville   \n",
       "3        Oakland         CA       37.72129      -122.22072  San Diego   \n",
       "4  Oklahoma City         OK       35.39309       -97.60073     Denver   \n",
       "\n",
       "  DEST_STATE  DEST_LATITUDE  DEST_LONGITUDE  DELAYED  \\\n",
       "0         TX       32.84711       -96.85177        0   \n",
       "1         GA       33.64044       -84.42694        0   \n",
       "2         TN       36.12448       -86.67818        0   \n",
       "3         CA       32.73356      -117.18966        0   \n",
       "4         CO       39.85841      -104.66700        0   \n",
       "\n",
       "   scheduled_departure_hour  scheduled_departure_minute  \\\n",
       "0                         6                          15   \n",
       "1                         6                          15   \n",
       "2                         6                          15   \n",
       "3                         6                          15   \n",
       "4                         6                          15   \n",
       "\n",
       "   scheduled_arrival_hour  scheduled_arrival_minute  \n",
       "0                       9                        25  \n",
       "1                       9                        20  \n",
       "2                       7                        15  \n",
       "3                       7                        45  \n",
       "4                       7                         0  "
      ]
     },
     "execution_count": 10,
     "metadata": {},
     "output_type": "execute_result"
    }
   ],
   "source": [
    "\n",
    "pd.set_option('display.max_columns', None)\n",
    "df.head(5)"
   ]
  },
  {
   "cell_type": "code",
   "execution_count": 12,
   "metadata": {
    "pycharm": {
     "name": "#%%\n"
    }
   },
   "outputs": [
    {
     "data": {
      "text/plain": [
       "(5222000, 24)"
      ]
     },
     "execution_count": 12,
     "metadata": {},
     "output_type": "execute_result"
    }
   ],
   "source": [
    "df.shape"
   ]
  },
  {
   "cell_type": "code",
   "execution_count": 13,
   "metadata": {
    "pycharm": {
     "name": "#%%\n"
    }
   },
   "outputs": [
    {
     "name": "stderr",
     "output_type": "stream",
     "text": [
      "/opt/app-root/lib64/python3.8/site-packages/category_encoders/utils.py:21: FutureWarning: is_categorical is deprecated and will be removed in a future version.  Use is_categorical_dtype instead\n",
      "  elif pd.api.types.is_categorical(cols):\n"
     ]
    },
    {
     "data": {
      "text/plain": [
       "<module 'mlflow.sklearn' from '/opt/app-root/lib64/python3.8/site-packages/mlflow/sklearn/__init__.py'>"
      ]
     },
     "execution_count": 13,
     "metadata": {},
     "output_type": "execute_result"
    }
   ],
   "source": [
    "import category_encoders as ce\n",
    "\n",
    "names = ['airline', \"origin_airport\", \"destination_airport\", \"ORIG_CITY\", \n",
    "         \"ORIG_STATE\", \"DEST_CITY\", \"DEST_STATE\"]\n",
    "\n",
    "enc = ce.ordinal.OrdinalEncoder(cols=names)\n",
    "enc.fit(df)\n",
    "df = enc.transform(df)\n",
    "\n",
    "#save the encoder to be used at inference time\n",
    "import joblib\n",
    "joblib.dump(enc, 'FlgithsDelayOrdinalEncoder.pkl')\n",
    "mlflow.sklearn"
   ]
  },
  {
   "cell_type": "code",
   "execution_count": 14,
   "metadata": {
    "pycharm": {
     "name": "#%%\n"
    }
   },
   "outputs": [
    {
     "data": {
      "text/html": [
       "<div>\n",
       "<style scoped>\n",
       "    .dataframe tbody tr th:only-of-type {\n",
       "        vertical-align: middle;\n",
       "    }\n",
       "\n",
       "    .dataframe tbody tr th {\n",
       "        vertical-align: top;\n",
       "    }\n",
       "\n",
       "    .dataframe thead th {\n",
       "        text-align: right;\n",
       "    }\n",
       "</style>\n",
       "<table border=\"1\" class=\"dataframe\">\n",
       "  <thead>\n",
       "    <tr style=\"text-align: right;\">\n",
       "      <th></th>\n",
       "      <th>month</th>\n",
       "      <th>day</th>\n",
       "      <th>day_of_week</th>\n",
       "      <th>airline</th>\n",
       "      <th>flight_number</th>\n",
       "      <th>origin_airport</th>\n",
       "      <th>destination_airport</th>\n",
       "      <th>scheduled_time</th>\n",
       "      <th>elapsed_time</th>\n",
       "      <th>air_time</th>\n",
       "      <th>distance</th>\n",
       "      <th>ORIG_CITY</th>\n",
       "      <th>ORIG_STATE</th>\n",
       "      <th>ORIG_LATITUDE</th>\n",
       "      <th>ORIG_LONGITUDE</th>\n",
       "      <th>DEST_CITY</th>\n",
       "      <th>DEST_STATE</th>\n",
       "      <th>DEST_LATITUDE</th>\n",
       "      <th>DEST_LONGITUDE</th>\n",
       "      <th>DELAYED</th>\n",
       "      <th>scheduled_departure_hour</th>\n",
       "      <th>scheduled_departure_minute</th>\n",
       "      <th>scheduled_arrival_hour</th>\n",
       "      <th>scheduled_arrival_minute</th>\n",
       "    </tr>\n",
       "  </thead>\n",
       "  <tbody>\n",
       "    <tr>\n",
       "      <th>0</th>\n",
       "      <td>11</td>\n",
       "      <td>30</td>\n",
       "      <td>1</td>\n",
       "      <td>1</td>\n",
       "      <td>552</td>\n",
       "      <td>1</td>\n",
       "      <td>1</td>\n",
       "      <td>250.0</td>\n",
       "      <td>244.0</td>\n",
       "      <td>221.0</td>\n",
       "      <td>1381</td>\n",
       "      <td>1</td>\n",
       "      <td>1</td>\n",
       "      <td>40.77724</td>\n",
       "      <td>-73.87261</td>\n",
       "      <td>1</td>\n",
       "      <td>1</td>\n",
       "      <td>32.84711</td>\n",
       "      <td>-96.85177</td>\n",
       "      <td>0</td>\n",
       "      <td>6</td>\n",
       "      <td>15</td>\n",
       "      <td>9</td>\n",
       "      <td>25</td>\n",
       "    </tr>\n",
       "    <tr>\n",
       "      <th>1</th>\n",
       "      <td>11</td>\n",
       "      <td>30</td>\n",
       "      <td>1</td>\n",
       "      <td>1</td>\n",
       "      <td>271</td>\n",
       "      <td>2</td>\n",
       "      <td>2</td>\n",
       "      <td>125.0</td>\n",
       "      <td>125.0</td>\n",
       "      <td>88.0</td>\n",
       "      <td>692</td>\n",
       "      <td>2</td>\n",
       "      <td>2</td>\n",
       "      <td>39.29761</td>\n",
       "      <td>-94.71391</td>\n",
       "      <td>2</td>\n",
       "      <td>2</td>\n",
       "      <td>33.64044</td>\n",
       "      <td>-84.42694</td>\n",
       "      <td>0</td>\n",
       "      <td>6</td>\n",
       "      <td>15</td>\n",
       "      <td>9</td>\n",
       "      <td>20</td>\n",
       "    </tr>\n",
       "    <tr>\n",
       "      <th>2</th>\n",
       "      <td>11</td>\n",
       "      <td>30</td>\n",
       "      <td>1</td>\n",
       "      <td>1</td>\n",
       "      <td>673</td>\n",
       "      <td>3</td>\n",
       "      <td>3</td>\n",
       "      <td>120.0</td>\n",
       "      <td>112.0</td>\n",
       "      <td>93.0</td>\n",
       "      <td>616</td>\n",
       "      <td>3</td>\n",
       "      <td>3</td>\n",
       "      <td>28.42889</td>\n",
       "      <td>-81.31603</td>\n",
       "      <td>3</td>\n",
       "      <td>3</td>\n",
       "      <td>36.12448</td>\n",
       "      <td>-86.67818</td>\n",
       "      <td>0</td>\n",
       "      <td>6</td>\n",
       "      <td>15</td>\n",
       "      <td>7</td>\n",
       "      <td>15</td>\n",
       "    </tr>\n",
       "    <tr>\n",
       "      <th>3</th>\n",
       "      <td>11</td>\n",
       "      <td>30</td>\n",
       "      <td>1</td>\n",
       "      <td>1</td>\n",
       "      <td>2720</td>\n",
       "      <td>4</td>\n",
       "      <td>4</td>\n",
       "      <td>90.0</td>\n",
       "      <td>85.0</td>\n",
       "      <td>67.0</td>\n",
       "      <td>446</td>\n",
       "      <td>4</td>\n",
       "      <td>4</td>\n",
       "      <td>37.72129</td>\n",
       "      <td>-122.22072</td>\n",
       "      <td>4</td>\n",
       "      <td>4</td>\n",
       "      <td>32.73356</td>\n",
       "      <td>-117.18966</td>\n",
       "      <td>0</td>\n",
       "      <td>6</td>\n",
       "      <td>15</td>\n",
       "      <td>7</td>\n",
       "      <td>45</td>\n",
       "    </tr>\n",
       "    <tr>\n",
       "      <th>4</th>\n",
       "      <td>11</td>\n",
       "      <td>30</td>\n",
       "      <td>1</td>\n",
       "      <td>1</td>\n",
       "      <td>805</td>\n",
       "      <td>5</td>\n",
       "      <td>5</td>\n",
       "      <td>105.0</td>\n",
       "      <td>95.0</td>\n",
       "      <td>73.0</td>\n",
       "      <td>495</td>\n",
       "      <td>5</td>\n",
       "      <td>5</td>\n",
       "      <td>35.39309</td>\n",
       "      <td>-97.60073</td>\n",
       "      <td>5</td>\n",
       "      <td>5</td>\n",
       "      <td>39.85841</td>\n",
       "      <td>-104.66700</td>\n",
       "      <td>0</td>\n",
       "      <td>6</td>\n",
       "      <td>15</td>\n",
       "      <td>7</td>\n",
       "      <td>0</td>\n",
       "    </tr>\n",
       "  </tbody>\n",
       "</table>\n",
       "</div>"
      ],
      "text/plain": [
       "   month  day  day_of_week  airline  flight_number  origin_airport  \\\n",
       "0     11   30            1        1            552               1   \n",
       "1     11   30            1        1            271               2   \n",
       "2     11   30            1        1            673               3   \n",
       "3     11   30            1        1           2720               4   \n",
       "4     11   30            1        1            805               5   \n",
       "\n",
       "   destination_airport  scheduled_time  elapsed_time  air_time  distance  \\\n",
       "0                    1           250.0         244.0     221.0      1381   \n",
       "1                    2           125.0         125.0      88.0       692   \n",
       "2                    3           120.0         112.0      93.0       616   \n",
       "3                    4            90.0          85.0      67.0       446   \n",
       "4                    5           105.0          95.0      73.0       495   \n",
       "\n",
       "   ORIG_CITY  ORIG_STATE  ORIG_LATITUDE  ORIG_LONGITUDE  DEST_CITY  \\\n",
       "0          1           1       40.77724       -73.87261          1   \n",
       "1          2           2       39.29761       -94.71391          2   \n",
       "2          3           3       28.42889       -81.31603          3   \n",
       "3          4           4       37.72129      -122.22072          4   \n",
       "4          5           5       35.39309       -97.60073          5   \n",
       "\n",
       "   DEST_STATE  DEST_LATITUDE  DEST_LONGITUDE  DELAYED  \\\n",
       "0           1       32.84711       -96.85177        0   \n",
       "1           2       33.64044       -84.42694        0   \n",
       "2           3       36.12448       -86.67818        0   \n",
       "3           4       32.73356      -117.18966        0   \n",
       "4           5       39.85841      -104.66700        0   \n",
       "\n",
       "   scheduled_departure_hour  scheduled_departure_minute  \\\n",
       "0                         6                          15   \n",
       "1                         6                          15   \n",
       "2                         6                          15   \n",
       "3                         6                          15   \n",
       "4                         6                          15   \n",
       "\n",
       "   scheduled_arrival_hour  scheduled_arrival_minute  \n",
       "0                       9                        25  \n",
       "1                       9                        20  \n",
       "2                       7                        15  \n",
       "3                       7                        45  \n",
       "4                       7                         0  "
      ]
     },
     "execution_count": 14,
     "metadata": {},
     "output_type": "execute_result"
    }
   ],
   "source": [
    "df.head(5)"
   ]
  },
  {
   "cell_type": "code",
   "execution_count": 15,
   "metadata": {
    "pycharm": {
     "name": "#%%\n"
    }
   },
   "outputs": [
    {
     "data": {
      "text/plain": [
       "month                           int32\n",
       "day                             int32\n",
       "day_of_week                     int32\n",
       "airline                         int64\n",
       "flight_number                   int32\n",
       "origin_airport                  int64\n",
       "destination_airport             int64\n",
       "scheduled_time                float64\n",
       "elapsed_time                  float64\n",
       "air_time                      float64\n",
       "distance                        int32\n",
       "ORIG_CITY                       int64\n",
       "ORIG_STATE                      int64\n",
       "ORIG_LATITUDE                 float64\n",
       "ORIG_LONGITUDE                float64\n",
       "DEST_CITY                       int64\n",
       "DEST_STATE                      int64\n",
       "DEST_LATITUDE                 float64\n",
       "DEST_LONGITUDE                float64\n",
       "DELAYED                         int32\n",
       "scheduled_departure_hour        int64\n",
       "scheduled_departure_minute      int64\n",
       "scheduled_arrival_hour          int64\n",
       "scheduled_arrival_minute        int64\n",
       "dtype: object"
      ]
     },
     "execution_count": 15,
     "metadata": {},
     "output_type": "execute_result"
    }
   ],
   "source": [
    "df.dtypes"
   ]
  },
  {
   "cell_type": "code",
   "execution_count": null,
   "metadata": {
    "pycharm": {
     "name": "#%%\n"
    }
   },
   "outputs": [],
   "source": []
  },
  {
   "cell_type": "code",
   "execution_count": 16,
   "metadata": {
    "pycharm": {
     "name": "#%%\n"
    }
   },
   "outputs": [],
   "source": [
    "from sklearn.model_selection import train_test_split \n",
    "\n",
    "labels = df['DELAYED']\n",
    "X_train, X_test, y_train, y_test = train_test_split(df, labels, test_size=0.2)\n"
   ]
  },
  {
   "cell_type": "code",
   "execution_count": 17,
   "metadata": {
    "pycharm": {
     "name": "#%%\n"
    }
   },
   "outputs": [
    {
     "data": {
      "image/png": "[encoded data removed]",
      "text/plain": [
       "<Figure size 1008x576 with 1 Axes>"
      ]
     },
     "metadata": {
      "needs_background": "light"
     },
     "output_type": "display_data"
    }
   ],
   "source": [
    "ax = X_train[\"DELAYED\"].value_counts().plot(kind='bar',figsize=(14,8),title=\"Data Distribution\")"
   ]
  },
  {
   "cell_type": "code",
   "execution_count": 18,
   "metadata": {
    "pycharm": {
     "name": "#%%\n"
    }
   },
   "outputs": [
    {
     "data": {
      "image/png": "[encoded data removed]",
      "text/plain": [
       "<Figure size 1008x576 with 1 Axes>"
      ]
     },
     "metadata": {
      "needs_background": "light"
     },
     "output_type": "display_data"
    }
   ],
   "source": [
    "ax = X_test[\"DELAYED\"].value_counts().plot(kind='bar',figsize=(14,8),title=\"Data Distribution\")"
   ]
  },
  {
   "cell_type": "code",
   "execution_count": 19,
   "metadata": {
    "pycharm": {
     "name": "#%%\n"
    }
   },
   "outputs": [
    {
     "name": "stdout",
     "output_type": "stream",
     "text": [
      "Training Data Shape (4177600, 23) (4177600,)\n",
      "Testing Data Shape (1044400, 23) (1044400,)\n"
     ]
    }
   ],
   "source": [
    "X_train.pop('DELAYED')\n",
    "X_test.pop('DELAYED')\n",
    "print ('Training Data Shape',X_train.shape, y_train.shape)\n",
    "print ('Testing Data Shape',X_test.shape, y_test.shape)"
   ]
  },
  {
   "cell_type": "code",
   "execution_count": 20,
   "metadata": {
    "pycharm": {
     "name": "#%%\n"
    }
   },
   "outputs": [
    {
     "data": {
      "text/html": [
       "<div>\n",
       "<style scoped>\n",
       "    .dataframe tbody tr th:only-of-type {\n",
       "        vertical-align: middle;\n",
       "    }\n",
       "\n",
       "    .dataframe tbody tr th {\n",
       "        vertical-align: top;\n",
       "    }\n",
       "\n",
       "    .dataframe thead th {\n",
       "        text-align: right;\n",
       "    }\n",
       "</style>\n",
       "<table border=\"1\" class=\"dataframe\">\n",
       "  <thead>\n",
       "    <tr style=\"text-align: right;\">\n",
       "      <th></th>\n",
       "      <th>month</th>\n",
       "      <th>day</th>\n",
       "      <th>day_of_week</th>\n",
       "      <th>airline</th>\n",
       "      <th>flight_number</th>\n",
       "      <th>origin_airport</th>\n",
       "      <th>destination_airport</th>\n",
       "      <th>scheduled_time</th>\n",
       "      <th>elapsed_time</th>\n",
       "      <th>air_time</th>\n",
       "      <th>distance</th>\n",
       "      <th>ORIG_CITY</th>\n",
       "      <th>ORIG_STATE</th>\n",
       "      <th>ORIG_LATITUDE</th>\n",
       "      <th>ORIG_LONGITUDE</th>\n",
       "      <th>DEST_CITY</th>\n",
       "      <th>DEST_STATE</th>\n",
       "      <th>DEST_LATITUDE</th>\n",
       "      <th>DEST_LONGITUDE</th>\n",
       "      <th>scheduled_departure_hour</th>\n",
       "      <th>scheduled_departure_minute</th>\n",
       "      <th>scheduled_arrival_hour</th>\n",
       "      <th>scheduled_arrival_minute</th>\n",
       "    </tr>\n",
       "  </thead>\n",
       "  <tbody>\n",
       "    <tr>\n",
       "      <th>2579764</th>\n",
       "      <td>2</td>\n",
       "      <td>4</td>\n",
       "      <td>3</td>\n",
       "      <td>1</td>\n",
       "      <td>354</td>\n",
       "      <td>50</td>\n",
       "      <td>38</td>\n",
       "      <td>135.0</td>\n",
       "      <td>130.0</td>\n",
       "      <td>113.0</td>\n",
       "      <td>873</td>\n",
       "      <td>48</td>\n",
       "      <td>3</td>\n",
       "      <td>27.97547</td>\n",
       "      <td>-82.53325</td>\n",
       "      <td>38</td>\n",
       "      <td>16</td>\n",
       "      <td>40.49147</td>\n",
       "      <td>-80.23287</td>\n",
       "      <td>9</td>\n",
       "      <td>45</td>\n",
       "      <td>12</td>\n",
       "      <td>0</td>\n",
       "    </tr>\n",
       "  </tbody>\n",
       "</table>\n",
       "</div>"
      ],
      "text/plain": [
       "         month  day  day_of_week  airline  flight_number  origin_airport  \\\n",
       "2579764      2    4            3        1            354              50   \n",
       "\n",
       "         destination_airport  scheduled_time  elapsed_time  air_time  \\\n",
       "2579764                   38           135.0         130.0     113.0   \n",
       "\n",
       "         distance  ORIG_CITY  ORIG_STATE  ORIG_LATITUDE  ORIG_LONGITUDE  \\\n",
       "2579764       873         48           3       27.97547       -82.53325   \n",
       "\n",
       "         DEST_CITY  DEST_STATE  DEST_LATITUDE  DEST_LONGITUDE  \\\n",
       "2579764         38          16       40.49147       -80.23287   \n",
       "\n",
       "         scheduled_departure_hour  scheduled_departure_minute  \\\n",
       "2579764                         9                          45   \n",
       "\n",
       "         scheduled_arrival_hour  scheduled_arrival_minute  \n",
       "2579764                      12                         0  "
      ]
     },
     "execution_count": 20,
     "metadata": {},
     "output_type": "execute_result"
    }
   ],
   "source": [
    "X_train.head(1)"
   ]
  },
  {
   "cell_type": "markdown",
   "metadata": {
    "pycharm": {
     "name": "#%% md\n"
    }
   },
   "source": [
    "## The following cells are using RandomForrestlClassifier to build the model for the given data\n",
    "## Typically data scientist tries with multiple algorith to find the right fit for the given problem.\n",
    "## It is upto you to execute and enhance the code and use MlFlow to comapre different alogithms."
   ]
  },
  {
   "cell_type": "code",
   "execution_count": 21,
   "metadata": {
    "pycharm": {
     "name": "#%%\n"
    }
   },
   "outputs": [],
   "source": [
    "from sklearn.ensemble import RandomForestClassifier\n",
    "from sklearn.model_selection import GridSearchCV\n",
    "\n",
    "#n_jobs = -1 will use all the cores\n",
    "forest_clf = RandomForestClassifier(random_state=42, n_jobs=-1)"
   ]
  },
  {
   "cell_type": "code",
   "execution_count": null,
   "metadata": {
    "pycharm": {
     "name": "#%%\n"
    }
   },
   "outputs": [
    {
     "name": "stderr",
     "output_type": "stream",
     "text": [
      "2022/03/31 10:43:47 INFO mlflow.utils.autologging_utils: Created MLflow autologging run with ID 'ea8a44e264154ffca14ab6bf14ea23d8', which will track hyperparameters, performance metrics, model artifacts, and lineage information for the current sklearn workflow\n"
     ]
    }
   ],
   "source": [
    "# to save time for the example, we have used minimum paramaters\n",
    "# this surely can be improved for a better model\n",
    "\n",
    "# criterion = ['gini', 'entropy']\n",
    "# n_estimators = [15,22]\n",
    "# max_depth = [15,30]\n",
    "# min_samples_split = [6,8]\n",
    "# min_samples_leaf = [10,12]\n",
    "\n",
    "n_estimators = [15, 22]\n",
    "criterion = ['gini']\n",
    "max_depth = [15, 30]\n",
    "\n",
    "# Merge the list into the variable\n",
    "hyperparameters = dict(n_estimators = n_estimators , criterion = criterion, max_depth=max_depth)\n",
    "\n",
    "model = GridSearchCV(forest_clf, hyperparameters, verbose=0)\n",
    "rf_best_model = model.fit(X_train,y_train)"
   ]
  },
  {
   "cell_type": "code",
   "execution_count": null,
   "metadata": {
    "pycharm": {
     "name": "#%%\n"
    }
   },
   "outputs": [],
   "source": [
    "y_test_pred = rf_best_model.predict(X_test)\n",
    "# y_test_pred = cross_val_predict(rf_best_model, X_test, y_test, cv=3)"
   ]
  },
  {
   "cell_type": "code",
   "execution_count": null,
   "metadata": {
    "pycharm": {
     "name": "#%%\n"
    }
   },
   "outputs": [],
   "source": [
    "from sklearn.metrics import confusion_matrix, classification_report\n",
    "confusion_matrix(y_test, y_test_pred)"
   ]
  },
  {
   "cell_type": "code",
   "execution_count": null,
   "metadata": {
    "pycharm": {
     "name": "#%%\n"
    }
   },
   "outputs": [],
   "source": [
    "from sklearn.metrics import precision_score, recall_score\n",
    "precision_score(y_test, y_test_pred)"
   ]
  },
  {
   "cell_type": "code",
   "execution_count": null,
   "metadata": {
    "pycharm": {
     "name": "#%%\n"
    }
   },
   "outputs": [],
   "source": []
  }
 ],
 "metadata": {
  "interpreter": {
   "hash": "7e7fc2f0a6d874598201e2b1c6d4c9c1ff81a6579125fac8bdb7060863303db5"
  },
  "kernelspec": {
   "display_name": "Python 3 (ipykernel)",
   "language": "python",
   "name": "python3"
  },
  "language_info": {
   "codemirror_mode": {
    "name": "ipython",
    "version": 3
   },
   "file_extension": ".py",
   "mimetype": "text/x-python",
   "name": "python",
   "nbconvert_exporter": "python",
   "pygments_lexer": "ipython3",
   "version": "3.8.8"
  }
 },
 "nbformat": 4,
 "nbformat_minor": 4
}