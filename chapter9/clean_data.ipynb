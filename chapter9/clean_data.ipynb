{
 "cells": [
  {
   "cell_type": "code",
   "execution_count": 1,
   "id": "944de949-d78a-4c5c-8592-e2542fa6d889",
   "metadata": {},
   "outputs": [],
   "source": [
    "import os\n",
    "from pyspark.sql import SparkSession\n",
    "from pyspark.sql.functions import broadcast\n",
    "import spark_util"
   ]
  },
  {
   "cell_type": "code",
   "execution_count": 2,
   "id": "3f0a60a1-fcab-48f6-ad7c-bb920704f1bb",
   "metadata": {},
   "outputs": [
    {
     "name": "stdout",
     "output_type": "stream",
     "text": [
      "Initializing environment variables for Spark\n",
      "Creating a spark session...\n",
      "Spark session created\n"
     ]
    },
    {
     "data": {
      "text/html": [
       "\n",
       "        <div>\n",
       "            <br/>\n",
       "            <p><b>Spark Context</b></p>\n",
       "            <dl>\n",
       "              <dt>Cluster Name</dt>\n",
       "                <dd><code>spark-cluster-mluser</code></dd>\n",
       "              <dt>Version</dt>\n",
       "                <dd><code>v3.0.1</code></dd>\n",
       "              <dt>Master</dt>\n",
       "                <dd><code>spark://spark-cluster-mluser:7077</code></dd>\n",
       "              <dt>App Id</dt>\n",
       "                <dd><code>app-20220311080243-0005</code></dd>\n",
       "              <dt>App Name</dt>\n",
       "                <dd><code>Clean flights data</code></dd>\n",
       "              <dt>Driver IP</dt>\n",
       "                <dd><code>172.17.0.4</code></dd>\n",
       "            </dl>\n",
       "        </div>\n",
       "    "
      ],
      "text/plain": [
       "<IPython.core.display.HTML object>"
      ]
     },
     "metadata": {},
     "output_type": "display_data"
    }
   ],
   "source": [
    "submit_args = \"--conf spark.hadoop.fs.s3a.endpoint=http://minio-ml-workshop:9000 \\\n",
    "--conf spark.hadoop.fs.s3a.access.key=minio \\\n",
    "--conf spark.hadoop.fs.s3a.secret.key=minio123 \\\n",
    "--conf spark.hadoop.fs.s3a.path.style.access=true \\\n",
    "--conf spark.hadoop.fs.s3a.impl=org.apache.hadoop.fs.s3a.S3AFileSystem \\\n",
    "--conf spark.hadoop.fs.s3a.multipart.size=104857600 \\\n",
    "--packages org.apache.hadoop:hadoop-aws:3.2.0\"\n",
    "\n",
    "spark = spark_util.getOrCreateSparkSession(\"Clean flights data\", submit_args)\n",
    "spark.sparkContext.setLogLevel(\"INFO\")"
   ]
  },
  {
   "cell_type": "code",
   "execution_count": 3,
   "id": "a01fa99b-8e5a-45d0-86b5-95ee72ec1ca4",
   "metadata": {},
   "outputs": [],
   "source": [
    "data_location = \"s3a://flights-data/flights/*.parquet\"\n",
    "df_flights = spark.read.parquet(data_location)\n",
    "#df_flights.printSchema()\n",
    "#df_flights.count()"
   ]
  },
  {
   "cell_type": "code",
   "execution_count": 29,
   "id": "389d3a50-1397-4282-8178-7f3d93bcb4a0",
   "metadata": {},
   "outputs": [
    {
     "data": {
      "text/plain": [
       "[<generator object <genexpr> at 0x7f31cdb7f270>]"
      ]
     },
     "execution_count": 29,
     "metadata": {},
     "output_type": "execute_result"
    }
   ],
   "source": [
    "from pyspark.sql.functions import col, approx_count_distinct\n",
    "\n",
    "df_distinct = df_flights.agg(*(approx_count_distinct(col(c)).alias(c) for c in df_flights.columns))\n",
    "\n",
    "first = df_distinct.first()\n",
    "for col in df_distinct.columns:\n",
    "    print(col)\n",
    "\n"
   ]
  },
  {
   "cell_type": "code",
   "execution_count": 30,
   "id": "3a238ac6-5461-468d-90ce-3596d79441c0",
   "metadata": {},
   "outputs": [
    {
     "name": "stdout",
     "output_type": "stream",
     "text": [
      "root\n",
      " |-- month: integer (nullable = true)\n",
      " |-- day: integer (nullable = true)\n",
      " |-- day_of_week: integer (nullable = true)\n",
      " |-- airline: string (nullable = true)\n",
      " |-- flight_number: integer (nullable = true)\n",
      " |-- tail_number: string (nullable = true)\n",
      " |-- origin_airport: string (nullable = true)\n",
      " |-- destination_airport: string (nullable = true)\n",
      " |-- scheduled_departure: string (nullable = true)\n",
      " |-- departure_time: string (nullable = true)\n",
      " |-- departure_delay: integer (nullable = true)\n",
      " |-- taxi_out: integer (nullable = true)\n",
      " |-- wheels_off: string (nullable = true)\n",
      " |-- scheduled_time: integer (nullable = true)\n",
      " |-- elapsed_time: integer (nullable = true)\n",
      " |-- air_time: integer (nullable = true)\n",
      " |-- distance: integer (nullable = true)\n",
      " |-- wheels_on: string (nullable = true)\n",
      " |-- taxi_in: integer (nullable = true)\n",
      " |-- scheduled_arrival: string (nullable = true)\n",
      " |-- arrival_time: string (nullable = true)\n",
      " |-- arrival_delay: integer (nullable = true)\n",
      " |-- diverted: integer (nullable = true)\n",
      " |-- cancelled: integer (nullable = true)\n",
      " |-- cancellation_reason: string (nullable = true)\n",
      " |-- air_system_delay: integer (nullable = true)\n",
      " |-- security_delay: integer (nullable = true)\n",
      " |-- airline_delay: integer (nullable = true)\n",
      " |-- late_aircraft_delay: integer (nullable = true)\n",
      " |-- weather_delay: integer (nullable = true)\n",
      " |-- AL_IATA_CODE: string (nullable = true)\n",
      " |-- AL_AIRLINE: string (nullable = true)\n",
      " |-- ORIG_AIRPORT: string (nullable = true)\n",
      " |-- ORIG_CITY: string (nullable = true)\n",
      " |-- ORIG_STATE: string (nullable = true)\n",
      " |-- ORIG_LATITUDE: double (nullable = true)\n",
      " |-- ORIG_LONGITUDE: double (nullable = true)\n",
      " |-- DEST_AIRPORT: string (nullable = true)\n",
      " |-- DEST_CITY: string (nullable = true)\n",
      " |-- DEST_STATE: string (nullable = true)\n",
      " |-- DEST_LATITUDE: double (nullable = true)\n",
      " |-- DEST_LONGITUDE: double (nullable = true)\n",
      "\n"
     ]
    }
   ],
   "source": [
    "df_clean = df_flights.drop(\"year\", \"ORIG_COUNTRY\", \"DEST_COUNTRY\", \"ORIG_IATA_CODE\", \"DEST_IATA_CODE\")\n",
    "df_clean.printSchema()"
   ]
  },
  {
   "cell_type": "code",
   "execution_count": null,
   "id": "ad2e9a6c-7e90-4743-8023-63b51cc65811",
   "metadata": {},
   "outputs": [],
   "source": [
    "spark.stop()"
   ]
  }
 ],
 "metadata": {
  "kernelspec": {
   "display_name": "Python 3",
   "language": "python",
   "name": "python3"
  },
  "language_info": {
   "codemirror_mode": {
    "name": "ipython",
    "version": 3
   },
   "file_extension": ".py",
   "mimetype": "text/x-python",
   "name": "python",
   "nbconvert_exporter": "python",
   "pygments_lexer": "ipython3",
   "version": "3.8.6"
  }
 },
 "nbformat": 4,
 "nbformat_minor": 5
}
